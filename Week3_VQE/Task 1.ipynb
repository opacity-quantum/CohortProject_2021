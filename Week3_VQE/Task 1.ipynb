{
 "cells": [
  {
   "cell_type": "markdown",
   "id": "4bf56e1d",
   "metadata": {},
   "source": [
    "# Task 1 "
   ]
  },
  {
   "cell_type": "markdown",
   "id": "398cd5d9",
   "metadata": {},
   "source": [
    "In this cohort project, we illustrate the VQE process using the IBM quantum computer. For Task 1, we first simulate the system with the classical algorithm. We repeat the example process of H2 and H20 molecules and generate more results for other molecules with four different methods. Hartree-Fock (HF), Configuration Interaction Singles and Doubles (CISD), Coupled-Cluster Singles and Doubles (CCSD), and Full Configuration Interaction (FCI). Using the method, we obtain the ground state PES of the molecules both on a classical computer using classical methods and the VQE simulator. \n",
    "\n",
    "![CDL 2020 Cohort Project](fig/task1_f1.png)\n",
    "\n",
    "**Figures: PES calculation of molecular energy with four different methods (HF, CISD, CCSD, FCI)**\n"
   ]
  },
  {
   "cell_type": "markdown",
   "id": "85358324",
   "metadata": {},
   "source": [
    "From the figrue above, we show the two different results: weakly correlated (H2, LiH) and strongly correlated (H4, H2O, N2) systems.\n",
    "\n",
    "Since the classical algorithm can make a good approximation to the weakly correlated election system, we do not see any big diverging behavior throughout the inter-atomic distance. However, as is expected, for the strongly correlated system, we can see diverging behaviors, and we often are quire off from our exact solution (FCI). \n",
    "\n",
    "This effect is more noticeable with the case of H4, none of the points except the faraway distance shows correct energy estimation. This is because the H4 system has more contribution from four hydrogens being correlated. On the other hand, the LiH system shows good converging behavior because of the stable system which does not purturb system.\n",
    "\n",
    "Unfortunately, we are not able to converge CISD method in our simultation. "
   ]
  },
  {
   "cell_type": "markdown",
   "id": "63dbfb68",
   "metadata": {},
   "source": [
    "**Q1 Among classical methods, there are techniques based on the variational approach and those\n",
    "that are not.** "
   ]
  },
  {
   "cell_type": "markdown",
   "id": "52db94e1",
   "metadata": {},
   "source": [
    "FCI method provides the exact answer it scales exponentially with the number of basis functions. Unlike the variational solution like HF and CISD, CCSD consider that the cluster operator T are restricted to singles and doubles. Since it is not vriational method, it has great failure with presence of strong correlation (1)\n"
   ]
  },
  {
   "cell_type": "markdown",
   "id": "243e3c05",
   "metadata": {},
   "source": [
    "**Q2 Check separability of HF, CISD, and CCSD by taking 2 H2 fragments at a large distance from each other and comparing the total energy with 2 energies of one H2 molecule. Explain your results.**"
   ]
  },
  {
   "cell_type": "markdown",
   "id": "2e7bca40",
   "metadata": {},
   "source": [
    "| System\\Method | FCI | HF | CCSD | CISD |\n",
    "| --- | --- | --- | --- | --- |\n",
    "| H2+H2 |  -1.86 | -1.09 |  -1.86 | x |\n",
    "| H4 | -1.86 |  -1.09 | -1.86 | x |\n",
    "| dif | 0 | 0 | 0 | x |\n",
    "\n",
    "**Table: separability of H2 and H4 molecule**"
   ]
  },
  {
   "cell_type": "markdown",
   "id": "c6428694",
   "metadata": {},
   "source": [
    "Table shows that all the method (except CISD) have great seperability. As we can expect, if the distance between Hydrogen inside of H2 or H4 became really large, we can safely assume that it will become signle hydrogen system. Since Hydrogen Eg= 0.49 Eh, so 4 x Eg= 1.9, which is very close with CCSD and FCI solution."
   ]
  },
  {
   "cell_type": "markdown",
   "id": "a8abfb02",
   "metadata": {},
   "source": [
    "1. Joonho Lee, William J. Huggins, Martin Head-Gordon, and K. Birgitta Whaley, Journal of Chemical Theory and Computation 2019 15 (1), 311-324"
   ]
  }
 ],
 "metadata": {
  "kernelspec": {
   "display_name": "Python 3",
   "language": "python",
   "name": "python3"
  },
  "language_info": {
   "codemirror_mode": {
    "name": "ipython",
    "version": 3
   },
   "file_extension": ".py",
   "mimetype": "text/x-python",
   "name": "python",
   "nbconvert_exporter": "python",
   "pygments_lexer": "ipython3",
   "version": "3.8.10"
  },
  "toc": {
   "base_numbering": 1,
   "nav_menu": {},
   "number_sections": true,
   "sideBar": true,
   "skip_h1_title": false,
   "title_cell": "Table of Contents",
   "title_sidebar": "Contents",
   "toc_cell": false,
   "toc_position": {},
   "toc_section_display": true,
   "toc_window_display": true
  }
 },
 "nbformat": 4,
 "nbformat_minor": 5
}
